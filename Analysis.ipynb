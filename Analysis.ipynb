{
 "cells": [
  {
   "cell_type": "code",
   "execution_count": null,
   "id": "ea600cea",
   "metadata": {},
   "outputs": [
    {
     "ename": "",
     "evalue": "",
     "output_type": "error",
     "traceback": [
      "\u001b[1;31mFailed to start the Kernel. \n",
      "\u001b[1;31mUnable to start Kernel 'Python 3.11.5' due to a timeout waiting for the ports to get used. \n",
      "\u001b[1;31mView Jupyter <a href='command:jupyter.viewOutput'>log</a> for further details."
     ]
    }
   ],
   "source": [
    "import pandas as pd\n",
    "import numpy as np\n",
    "import seaborn as sns\n",
    "import matplotlib.pyplot as plt"
   ]
  },
  {
   "cell_type": "markdown",
   "id": "d4e89124",
   "metadata": {},
   "source": [
    "### Supermarket Analysis"
   ]
  },
  {
   "cell_type": "code",
   "execution_count": null,
   "id": "084f8e1c",
   "metadata": {},
   "outputs": [],
   "source": [
    "## Importing of the dataset\n",
    "df = pd.read_csv('supermarket_sales - Sheet1.csv')"
   ]
  },
  {
   "cell_type": "code",
   "execution_count": null,
   "id": "4055641f",
   "metadata": {},
   "outputs": [],
   "source": [
    "## Checking the random samples\n",
    "df.sample(5)"
   ]
  },
  {
   "cell_type": "code",
   "execution_count": null,
   "id": "66622607",
   "metadata": {},
   "outputs": [],
   "source": [
    "## Checking the columns in the dataset\n",
    "print('The following are the variables in our dataset\\n')\n",
    "for i in df.columns:\n",
    "    print(i)"
   ]
  },
  {
   "cell_type": "code",
   "execution_count": null,
   "id": "a361cd58",
   "metadata": {},
   "outputs": [],
   "source": [
    "### Checking the shape of the dataset\n",
    "print('The dataset has %d variables and %d observations' %(df.shape[1],df.shape[0]))"
   ]
  },
  {
   "cell_type": "code",
   "execution_count": null,
   "id": "d7bec75a",
   "metadata": {},
   "outputs": [],
   "source": [
    "### Checking the datatypes of the dataset\n",
    "for key,value in df.dtypes.items():\n",
    "    print(f'{key} --------------------------------> {value}')"
   ]
  },
  {
   "cell_type": "code",
   "execution_count": null,
   "id": "460cd693",
   "metadata": {},
   "outputs": [],
   "source": [
    "### Extracting information about the dataset\n",
    "df.info()"
   ]
  },
  {
   "cell_type": "code",
   "execution_count": null,
   "id": "92dec5c1",
   "metadata": {},
   "outputs": [],
   "source": [
    "## Creating the new dataset without the invoice ID\n",
    "df1 = df.drop('Invoice ID',axis=1)\n",
    "df1.sample(4)"
   ]
  },
  {
   "cell_type": "code",
   "execution_count": null,
   "id": "ca1ba854",
   "metadata": {},
   "outputs": [],
   "source": [
    "#### Correcting the column names\n",
    "df.columns"
   ]
  },
  {
   "cell_type": "code",
   "execution_count": null,
   "id": "65591f78",
   "metadata": {},
   "outputs": [],
   "source": [
    "df1.rename({'Customer type':'Customer_type',\n",
    "            'Product line':'Product_line', 'Unit price':'Unit_price',\n",
    "            'Tax 5%':'Tax_5%','gross margin percentage':'gross_margin_percentage',\n",
    "            'gross income':'gross_income'},axis=1,inplace=True)"
   ]
  },
  {
   "cell_type": "code",
   "execution_count": null,
   "id": "cb055041",
   "metadata": {},
   "outputs": [],
   "source": [
    "df1.sample(4)"
   ]
  },
  {
   "cell_type": "markdown",
   "id": "046994b6",
   "metadata": {},
   "source": [
    "#### Checking the itemns in categorical variables"
   ]
  },
  {
   "cell_type": "code",
   "execution_count": null,
   "id": "dc536ce2",
   "metadata": {},
   "outputs": [],
   "source": [
    "## Checking for the kind of customer types\n",
    "for col in df1.columns:\n",
    "    if df1[col].dtype == 'object':\n",
    "        print('**'*10)\n",
    "        print(col)\n",
    "        print('__'*10)\n",
    "        for i in df1[col].unique():\n",
    "            print(i)"
   ]
  },
  {
   "cell_type": "markdown",
   "id": "89a18d6f",
   "metadata": {},
   "source": [
    "#### Checking for missing values"
   ]
  },
  {
   "cell_type": "code",
   "execution_count": null,
   "id": "88746d10",
   "metadata": {},
   "outputs": [],
   "source": [
    "#### Using the numbers or counts\n",
    "for key,value in df1.isna().sum().items():\n",
    "    print(f'{key} -----------> {value}')\n",
    "## There are no missing values in the dataset"
   ]
  },
  {
   "cell_type": "markdown",
   "id": "e94bea85",
   "metadata": {},
   "source": [
    "### Checking for outliers in the dataset"
   ]
  },
  {
   "cell_type": "code",
   "execution_count": null,
   "id": "b0c6f38c",
   "metadata": {},
   "outputs": [],
   "source": [
    "## We check for outliers from only numeric variables\n",
    "numeric_df = df1.select_dtypes(include=['int64','float64'])\n",
    "numeric_df"
   ]
  },
  {
   "cell_type": "code",
   "execution_count": null,
   "id": "50dfb910",
   "metadata": {},
   "outputs": [],
   "source": [
    "numeric_df.dtypes"
   ]
  },
  {
   "cell_type": "code",
   "execution_count": null,
   "id": "8a5be292",
   "metadata": {},
   "outputs": [],
   "source": [
    "### Using the graphical method\n",
    "def check_for_outliers(data):\n",
    "    plt.figure(figsize=(20,20))\n",
    "    for i,col in enumerate(data.columns):\n",
    "        if col in data.select_dtypes(exclude=['object']):\n",
    "            plt.subplot(4,4, i+1)\n",
    "            sns.boxplot(data[col],color='lightblue',linecolor='darkblue',linewidth=1,width=0.2,showmeans = True)\n",
    "            plt.title(col)\n",
    "    plt.tight_layout()\n",
    "    plt.show()"
   ]
  },
  {
   "cell_type": "code",
   "execution_count": null,
   "id": "6556efe8",
   "metadata": {},
   "outputs": [],
   "source": [
    "check_for_outliers(df1)"
   ]
  },
  {
   "cell_type": "code",
   "execution_count": null,
   "id": "ae347e29",
   "metadata": {},
   "outputs": [],
   "source": [
    "### Function two\n",
    "def check_for_outliers2(data):\n",
    "    plt.figure(figsize=(20,20))\n",
    "    for i,col in enumerate(data.columns):\n",
    "        plt.subplot(4,4, i+1)\n",
    "        sns.boxplot(data[col],color='lightblue',linecolor='darkblue',linewidth=1,width=0.2,showmeans = True)\n",
    "        plt.title(col)\n",
    "    plt.tight_layout()\n",
    "    plt.show()"
   ]
  },
  {
   "cell_type": "code",
   "execution_count": null,
   "id": "c13f388e",
   "metadata": {},
   "outputs": [],
   "source": [
    "check_for_outliers2(numeric_df)"
   ]
  },
  {
   "cell_type": "markdown",
   "id": "9dc11c19",
   "metadata": {},
   "source": [
    "###### There are outliers in;\n",
    "- Tax\n",
    "- Total\n",
    "- cogs\n",
    "- gross_income"
   ]
  },
  {
   "cell_type": "code",
   "execution_count": null,
   "id": "b8c1d030",
   "metadata": {},
   "outputs": [],
   "source": [
    "### Dealing with the outliers using the interqurtile range method\n",
    "def deal_with_outliers(data):\n",
    "    numeric_cols = data.dtypes(include=[np.number]).columns\n",
    "    for col in numeric_cols:\n",
    "        ## Setting the quartiles\n",
    "        Q1 = data[col].quantile(0.25)\n",
    "        Q3 = data[col].quantile(0.75)\n",
    "\n",
    "        ## Getting the IQR\n",
    "        IQR = Q3 - Q1\n",
    "\n",
    "        ## Settin the boundaries\n",
    "        lower = Q1 - 1.5 * IQR\n",
    "        upper = Q3 + 1.5 * IQR\n",
    "\n",
    "        ## Dealing with the outliers\n",
    "        data[col] = np.where(data[col] >= lower,lower,data[col])\n",
    "        data[col] = np.where(data[data[col] <= upper,upper,data[col]])\n",
    "        return data"
   ]
  },
  {
   "cell_type": "code",
   "execution_count": null,
   "id": "6e3bba2f",
   "metadata": {},
   "outputs": [],
   "source": [
    "### Removing the missing values\n",
    "deal_with_outliers(df1)"
   ]
  },
  {
   "cell_type": "code",
   "execution_count": null,
   "id": "4886b712",
   "metadata": {},
   "outputs": [],
   "source": [
    "## Checking if the outliers have been removed\n",
    "check_for_outliers2(df1)"
   ]
  }
 ],
 "metadata": {
  "kernelspec": {
   "display_name": "Python 3",
   "language": "python",
   "name": "python3"
  },
  "language_info": {
   "codemirror_mode": {
    "name": "ipython",
    "version": 3
   },
   "file_extension": ".py",
   "mimetype": "text/x-python",
   "name": "python",
   "nbconvert_exporter": "python",
   "pygments_lexer": "ipython3",
   "version": "3.11.5"
  }
 },
 "nbformat": 4,
 "nbformat_minor": 5
}
